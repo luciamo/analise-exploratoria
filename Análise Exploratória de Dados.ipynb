{
 "cells": [
  {
   "cell_type": "markdown",
   "metadata": {},
   "source": [
    "## Estudo sobre a correlação entre ____etc_____etc_____etc_______\n",
    "\n",
    "# Alunos:\n",
    "- *Luciano Eduardo*\n",
    "- *Paulo*\n",
    "- *Felipe*\n",
    "\n",
    "<br>\n",
    "<div class=\"alert alert-info\">\n",
    "<b>OBJETIVOS: </b>\n",
    "</div>\n",
    "\n",
    "O objetivo do trabalho é mostrar de forma gráfica o ... no período de ... para  IMD\n",
    "Para isso seguiremos os passos a seguir...\n",
    "1.\n",
    "2.\n",
    "3.\n",
    "  "
   ]
  },
  {
   "cell_type": "markdown",
   "metadata": {},
   "source": [
    "# Importando as bibliotecas necessárias"
   ]
  },
  {
   "cell_type": "code",
   "execution_count": 5,
   "metadata": {},
   "outputs": [],
   "source": [
    "# importando as bibliotecas necessárias\n",
    "import pandas as pd\n",
    "import matplotlib.pyplot as plt\n",
    "import seaborn as sns\n",
    "import numpy as np"
   ]
  },
  {
   "cell_type": "markdown",
   "metadata": {},
   "source": [
    "# Analisando o grupo http://dados.ufrn.br/group/ensino"
   ]
  },
  {
   "cell_type": "code",
   "execution_count": 6,
   "metadata": {},
   "outputs": [],
   "source": [
    "# Turmas 2017.2\n",
    "# http://dados.ufrn.br/dataset/turmas\n",
    "\n",
    "# turmas\n",
    "turmas_url = 'http://bit.do/turmas_ufrn_2017_2'\n",
    "\n",
    "# matrículas em componentes em 2017.2\n",
    "notas_url = 'http://bit.do/notas_ufrn_2017_2'\n",
    "\n",
    "# componentes curriculares presenciais\n",
    "disciplinas_url = 'http://bit.do/componentes_curriculares_ufrn'\n",
    "\n",
    "# docentes da ufrn atualizado em 2018\n",
    "docentes_url = 'http://bit.do/docentes_ufrn_2018'\n",
    "\n",
    "# turmas 2017.2\n",
    "turmas = pd.read_csv(turmas_url, sep=';')\n",
    "\n",
    "# matriculas em componentes em 2017.2\n",
    "notas = pd.read_csv(notas_url, sep=';')\n",
    "\n",
    "# componentes curriculares presenciais\n",
    "# por alguma razão ou outra, esse dataset tinha algum lixo em linhas que ocasionava \n",
    "# erros de leitura, dessa forma foi realizado um filtro apenas por colunas mais importantes\n",
    "disciplinas = pd.read_csv(disciplinas_url, \n",
    "                          sep=';', \n",
    "                          usecols=[\"id_componente\",\"codigo\",\"nivel\",\"nome\",\"unidade_responsavel\"])\n",
    "\n",
    "docentes = pd.read_csv(docentes_url, sep=';')"
   ]
  },
  {
   "cell_type": "markdown",
   "metadata": {},
   "source": [
    "# Preparação e limpeza dos dados"
   ]
  },
  {
   "cell_type": "code",
   "execution_count": 7,
   "metadata": {},
   "outputs": [],
   "source": [
    "# Adaptando o dataframe turma e disciplinas para o merge\n",
    "# Esse procedimento é necessário pois o dataframe turma está codificado com ids\n",
    "\n",
    "# A coluna id_componente precisa ser a mesma em ambos os dataframes\n",
    "turmas.rename(columns={'id_componente_curricular': 'id_componente'}, inplace=True)\n",
    "\n",
    "# id_componente em ambos os dataframes precisam ser do mesmo tipo\n",
    "turmas.id_componente = turmas.id_componente.astype(str)\n",
    "\n",
    "# Limpando o dataframe disciplinas com linhas desnecessárias\n",
    "disciplinas.dropna(inplace=True)\n",
    "disciplinas = disciplinas[~disciplinas.id_componente.duplicated()]"
   ]
  },
  {
   "cell_type": "code",
   "execution_count": 8,
   "metadata": {
    "scrolled": false
   },
   "outputs": [
    {
     "data": {
      "text/html": [
       "<div>\n",
       "<style scoped>\n",
       "    .dataframe tbody tr th:only-of-type {\n",
       "        vertical-align: middle;\n",
       "    }\n",
       "\n",
       "    .dataframe tbody tr th {\n",
       "        vertical-align: top;\n",
       "    }\n",
       "\n",
       "    .dataframe thead th {\n",
       "        text-align: right;\n",
       "    }\n",
       "</style>\n",
       "<table border=\"1\" class=\"dataframe\">\n",
       "  <thead>\n",
       "    <tr style=\"text-align: right;\">\n",
       "      <th></th>\n",
       "      <th>id_turma</th>\n",
       "      <th>id_docente_interno</th>\n",
       "      <th>codigo</th>\n",
       "      <th>nivel_ensino</th>\n",
       "      <th>nome</th>\n",
       "      <th>unidade_responsavel</th>\n",
       "      <th>situacao_turma</th>\n",
       "      <th>capacidade_aluno</th>\n",
       "      <th>descricao_horario</th>\n",
       "    </tr>\n",
       "  </thead>\n",
       "  <tbody>\n",
       "    <tr>\n",
       "      <th>0</th>\n",
       "      <td>57602957</td>\n",
       "      <td>5753061.0</td>\n",
       "      <td>ART2077</td>\n",
       "      <td>LATO SENSU</td>\n",
       "      <td>PRODUÇÃO COREOGRÁFICA I</td>\n",
       "      <td>DEPARTAMENTO DE ARTES</td>\n",
       "      <td>CONSOLIDADA</td>\n",
       "      <td>40.0</td>\n",
       "      <td>7M2345  7T23456</td>\n",
       "    </tr>\n",
       "    <tr>\n",
       "      <th>2</th>\n",
       "      <td>57602962</td>\n",
       "      <td>5752714.0</td>\n",
       "      <td>ART2083</td>\n",
       "      <td>LATO SENSU</td>\n",
       "      <td>VIESES  ARTÍSTICOS  CONTEMPORÂNEOS  EM  DANÇA ...</td>\n",
       "      <td>DEPARTAMENTO DE ARTES</td>\n",
       "      <td>ABERTA</td>\n",
       "      <td>40.0</td>\n",
       "      <td>1M345 7M2345  17T23456</td>\n",
       "    </tr>\n",
       "    <tr>\n",
       "      <th>3</th>\n",
       "      <td>57602963</td>\n",
       "      <td>3031948.0</td>\n",
       "      <td>ART2086</td>\n",
       "      <td>LATO SENSU</td>\n",
       "      <td>PRÁTICAS DE IMPROVISAÇÃO PARA A CENA DAS DANÇA...</td>\n",
       "      <td>DEPARTAMENTO DE ARTES</td>\n",
       "      <td>CONSOLIDADA</td>\n",
       "      <td>40.0</td>\n",
       "      <td>7M2345  7T3456</td>\n",
       "    </tr>\n",
       "    <tr>\n",
       "      <th>4</th>\n",
       "      <td>57603192</td>\n",
       "      <td>5752917.0</td>\n",
       "      <td>MUT491</td>\n",
       "      <td>TÉCNICO</td>\n",
       "      <td>ARRANJOS II</td>\n",
       "      <td>ESCOLA DE MÚSICA</td>\n",
       "      <td>CONSOLIDADA</td>\n",
       "      <td>20.0</td>\n",
       "      <td>3T34</td>\n",
       "    </tr>\n",
       "    <tr>\n",
       "      <th>5</th>\n",
       "      <td>57603193</td>\n",
       "      <td>35466.0</td>\n",
       "      <td>MUT102</td>\n",
       "      <td>TÉCNICO</td>\n",
       "      <td>CANTO II</td>\n",
       "      <td>ESCOLA DE MÚSICA</td>\n",
       "      <td>CONSOLIDADA</td>\n",
       "      <td>3.0</td>\n",
       "      <td>3T456</td>\n",
       "    </tr>\n",
       "  </tbody>\n",
       "</table>\n",
       "</div>"
      ],
      "text/plain": [
       "   id_turma  id_docente_interno   codigo nivel_ensino  \\\n",
       "0  57602957           5753061.0  ART2077   LATO SENSU   \n",
       "2  57602962           5752714.0  ART2083   LATO SENSU   \n",
       "3  57602963           3031948.0  ART2086   LATO SENSU   \n",
       "4  57603192           5752917.0   MUT491      TÉCNICO   \n",
       "5  57603193             35466.0   MUT102      TÉCNICO   \n",
       "\n",
       "                                                nome    unidade_responsavel  \\\n",
       "0                            PRODUÇÃO COREOGRÁFICA I  DEPARTAMENTO DE ARTES   \n",
       "2  VIESES  ARTÍSTICOS  CONTEMPORÂNEOS  EM  DANÇA ...  DEPARTAMENTO DE ARTES   \n",
       "3  PRÁTICAS DE IMPROVISAÇÃO PARA A CENA DAS DANÇA...  DEPARTAMENTO DE ARTES   \n",
       "4                                        ARRANJOS II       ESCOLA DE MÚSICA   \n",
       "5                                           CANTO II       ESCOLA DE MÚSICA   \n",
       "\n",
       "  situacao_turma  capacidade_aluno       descricao_horario  \n",
       "0    CONSOLIDADA              40.0         7M2345  7T23456  \n",
       "2         ABERTA              40.0  1M345 7M2345  17T23456  \n",
       "3    CONSOLIDADA              40.0          7M2345  7T3456  \n",
       "4    CONSOLIDADA              20.0                    3T34  \n",
       "5    CONSOLIDADA               3.0                   3T456  "
      ]
     },
     "execution_count": 8,
     "metadata": {},
     "output_type": "execute_result"
    }
   ],
   "source": [
    "# Fazendo um merge entre o dataframe turmas e disciplinas utilizando como base a coluna id_componente\n",
    "# https://pandas.pydata.org/pandas-docs/stable/merging.html\n",
    "colunas = [\"id_turma\",\"id_docente_interno\",\"codigo\",\"nivel_ensino\",\"nome\",\"unidade_responsavel\",\n",
    "          \"situacao_turma\",\"capacidade_aluno\",\"descricao_horario\"]\n",
    "\n",
    "# merge os dois dataframes utilizando como base a coluna id_componenteb\n",
    "merge_turmas_disciplinas = pd.merge(turmas, disciplinas, on='id_componente')[colunas]\n",
    "\n",
    "merge_turmas_disciplinas.dropna(inplace=True)\n",
    "merge_turmas_disciplinas.head()"
   ]
  },
  {
   "cell_type": "code",
   "execution_count": null,
   "metadata": {},
   "outputs": [],
   "source": []
  }
 ],
 "metadata": {
  "kernelspec": {
   "display_name": "Python 3",
   "language": "python",
   "name": "python3"
  },
  "language_info": {
   "codemirror_mode": {
    "name": "ipython",
    "version": 3
   },
   "file_extension": ".py",
   "mimetype": "text/x-python",
   "name": "python",
   "nbconvert_exporter": "python",
   "pygments_lexer": "ipython3",
   "version": "3.6.4"
  }
 },
 "nbformat": 4,
 "nbformat_minor": 2
}
