{
 "cells": [
  {
   "cell_type": "markdown",
   "metadata": {},
   "source": [
    "## Estudo sobre a correlação entre ____etc_____etc_____etc_______\n",
    "\n",
    "# Alunos:\n",
    "- *Luciano Eduardo*\n",
    "- *Paulo*\n",
    "- *Felipe*\n",
    "\n",
    "<br>\n",
    "<div class=\"alert alert-info\">\n",
    "<b>OBJETIVOS: </b>\n",
    "</div>\n",
    "\n",
    "O objetivo do trabalho é mostrar de forma gráfica o ... no período de ... para  IMD\n",
    "Para isso seguiremos os passos a seguir...\n",
    "1.\n",
    "2.\n",
    "3.\n",
    "  "
   ]
  },
  {
   "cell_type": "markdown",
   "metadata": {},
   "source": [
    "# Importando as bibliotecas necessárias"
   ]
  },
  {
   "cell_type": "code",
   "execution_count": 178,
   "metadata": {},
   "outputs": [],
   "source": [
    "# importando as bibliotecas necessárias\n",
    "import pandas as pd\n",
    "import matplotlib.pyplot as plt\n",
    "import seaborn as sns\n",
    "import numpy as np"
   ]
  },
  {
   "cell_type": "markdown",
   "metadata": {},
   "source": [
    "# Analisando o grupo http://dados.ufrn.br/group/ensino"
   ]
  },
  {
   "cell_type": "code",
   "execution_count": 386,
   "metadata": {},
   "outputs": [],
   "source": [
    "# Turmas 2017.2\n",
    "# http://dados.ufrn.br/dataset/turmas\n",
    "\n",
    "# turmas\n",
    "turmas_url = 'http://bit.do/turmas_ufrn_2017_2'\n",
    "\n",
    "# matrículas em componentes em 2017.2\n",
    "notas_url = 'http://bit.do/notas_ufrn_2017_2'\n",
    "\n",
    "# componentes curriculares presenciais\n",
    "disciplinas_url = 'http://bit.do/componentes_curriculares_ufrn'\n",
    "\n",
    "# docentes da ufrn atualizado em 2018\n",
    "docentes_url = 'http://bit.do/docentes_ufrn_2018'\n",
    "\n",
    "# turmas 2017.2\n",
    "turmas = pd.read_csv(turmas_url, sep=';')\n",
    "\n",
    "# matriculas em componentes em 2017.2\n",
    "notas = pd.read_csv(notas_url, sep=';')\n",
    "\n",
    "# componentes curriculares presenciais\n",
    "# por alguma razão ou outra, esse dataset tinha algum lixo em linhas que ocasionava \n",
    "# erros de leitura, dessa forma foi realizado um filtro apenas por colunas mais importantes\n",
    "disciplinas = pd.read_csv(disciplinas_url, \n",
    "                          sep=';', \n",
    "                          usecols=[\"id_componente\",\"codigo\",\"nivel\",\"nome\",\"unidade_responsavel\"])\n",
    "\n",
    "docentes = pd.read_csv(docentes_url, sep=';')"
   ]
  },
  {
   "cell_type": "markdown",
   "metadata": {},
   "source": [
    "# Preparação e limpeza dos dados"
   ]
  },
  {
   "cell_type": "code",
   "execution_count": 180,
   "metadata": {},
   "outputs": [],
   "source": [
    "# Adaptando o dataframe turma e disciplinas para o merge\n",
    "# Esse procedimento é necessário pois o dataframe turma está codificado com ids\n",
    "\n",
    "# A coluna id_componente precisa ser a mesma em ambos os dataframes\n",
    "turmas.rename(columns={'id_componente_curricular': 'id_componente'}, inplace=True)\n",
    "\n",
    "# id_componente em ambos os dataframes precisam ser do mesmo tipo\n",
    "turmas.id_componente = turmas.id_componente.astype(str)\n",
    "\n",
    "# Limpando o dataframe disciplinas com linhas desnecessárias\n",
    "disciplinas.dropna(inplace=True)\n",
    "disciplinas = disciplinas[~disciplinas.id_componente.duplicated()]"
   ]
  },
  {
   "cell_type": "code",
   "execution_count": 181,
   "metadata": {
    "scrolled": true
   },
   "outputs": [
    {
     "data": {
      "text/html": [
       "<div>\n",
       "<style scoped>\n",
       "    .dataframe tbody tr th:only-of-type {\n",
       "        vertical-align: middle;\n",
       "    }\n",
       "\n",
       "    .dataframe tbody tr th {\n",
       "        vertical-align: top;\n",
       "    }\n",
       "\n",
       "    .dataframe thead th {\n",
       "        text-align: right;\n",
       "    }\n",
       "</style>\n",
       "<table border=\"1\" class=\"dataframe\">\n",
       "  <thead>\n",
       "    <tr style=\"text-align: right;\">\n",
       "      <th></th>\n",
       "      <th>id_turma</th>\n",
       "      <th>id_docente_interno</th>\n",
       "      <th>codigo</th>\n",
       "      <th>nivel_ensino</th>\n",
       "      <th>nome</th>\n",
       "      <th>unidade_responsavel</th>\n",
       "      <th>situacao_turma</th>\n",
       "      <th>capacidade_aluno</th>\n",
       "      <th>descricao_horario</th>\n",
       "    </tr>\n",
       "  </thead>\n",
       "  <tbody>\n",
       "    <tr>\n",
       "      <th>0</th>\n",
       "      <td>57602957</td>\n",
       "      <td>5753061.0</td>\n",
       "      <td>ART2077</td>\n",
       "      <td>LATO SENSU</td>\n",
       "      <td>PRODUÇÃO COREOGRÁFICA I</td>\n",
       "      <td>DEPARTAMENTO DE ARTES</td>\n",
       "      <td>CONSOLIDADA</td>\n",
       "      <td>40.0</td>\n",
       "      <td>7M2345  7T23456</td>\n",
       "    </tr>\n",
       "    <tr>\n",
       "      <th>2</th>\n",
       "      <td>57602962</td>\n",
       "      <td>5752714.0</td>\n",
       "      <td>ART2083</td>\n",
       "      <td>LATO SENSU</td>\n",
       "      <td>VIESES  ARTÍSTICOS  CONTEMPORÂNEOS  EM  DANÇA ...</td>\n",
       "      <td>DEPARTAMENTO DE ARTES</td>\n",
       "      <td>ABERTA</td>\n",
       "      <td>40.0</td>\n",
       "      <td>1M345 7M2345  17T23456</td>\n",
       "    </tr>\n",
       "    <tr>\n",
       "      <th>3</th>\n",
       "      <td>57602963</td>\n",
       "      <td>3031948.0</td>\n",
       "      <td>ART2086</td>\n",
       "      <td>LATO SENSU</td>\n",
       "      <td>PRÁTICAS DE IMPROVISAÇÃO PARA A CENA DAS DANÇA...</td>\n",
       "      <td>DEPARTAMENTO DE ARTES</td>\n",
       "      <td>CONSOLIDADA</td>\n",
       "      <td>40.0</td>\n",
       "      <td>7M2345  7T3456</td>\n",
       "    </tr>\n",
       "    <tr>\n",
       "      <th>4</th>\n",
       "      <td>57603192</td>\n",
       "      <td>5752917.0</td>\n",
       "      <td>MUT491</td>\n",
       "      <td>TÉCNICO</td>\n",
       "      <td>ARRANJOS II</td>\n",
       "      <td>ESCOLA DE MÚSICA</td>\n",
       "      <td>CONSOLIDADA</td>\n",
       "      <td>20.0</td>\n",
       "      <td>3T34</td>\n",
       "    </tr>\n",
       "    <tr>\n",
       "      <th>5</th>\n",
       "      <td>57603193</td>\n",
       "      <td>35466.0</td>\n",
       "      <td>MUT102</td>\n",
       "      <td>TÉCNICO</td>\n",
       "      <td>CANTO II</td>\n",
       "      <td>ESCOLA DE MÚSICA</td>\n",
       "      <td>CONSOLIDADA</td>\n",
       "      <td>3.0</td>\n",
       "      <td>3T456</td>\n",
       "    </tr>\n",
       "  </tbody>\n",
       "</table>\n",
       "</div>"
      ],
      "text/plain": [
       "   id_turma  id_docente_interno   codigo nivel_ensino  \\\n",
       "0  57602957           5753061.0  ART2077   LATO SENSU   \n",
       "2  57602962           5752714.0  ART2083   LATO SENSU   \n",
       "3  57602963           3031948.0  ART2086   LATO SENSU   \n",
       "4  57603192           5752917.0   MUT491      TÉCNICO   \n",
       "5  57603193             35466.0   MUT102      TÉCNICO   \n",
       "\n",
       "                                                nome    unidade_responsavel  \\\n",
       "0                            PRODUÇÃO COREOGRÁFICA I  DEPARTAMENTO DE ARTES   \n",
       "2  VIESES  ARTÍSTICOS  CONTEMPORÂNEOS  EM  DANÇA ...  DEPARTAMENTO DE ARTES   \n",
       "3  PRÁTICAS DE IMPROVISAÇÃO PARA A CENA DAS DANÇA...  DEPARTAMENTO DE ARTES   \n",
       "4                                        ARRANJOS II       ESCOLA DE MÚSICA   \n",
       "5                                           CANTO II       ESCOLA DE MÚSICA   \n",
       "\n",
       "  situacao_turma  capacidade_aluno       descricao_horario  \n",
       "0    CONSOLIDADA              40.0         7M2345  7T23456  \n",
       "2         ABERTA              40.0  1M345 7M2345  17T23456  \n",
       "3    CONSOLIDADA              40.0          7M2345  7T3456  \n",
       "4    CONSOLIDADA              20.0                    3T34  \n",
       "5    CONSOLIDADA               3.0                   3T456  "
      ]
     },
     "execution_count": 181,
     "metadata": {},
     "output_type": "execute_result"
    }
   ],
   "source": [
    "# Fazendo um merge entre o dataframe turmas e disciplinas utilizando como base a coluna id_componente\n",
    "# https://pandas.pydata.org/pandas-docs/stable/merging.html\n",
    "colunas = [\"id_turma\",\"id_docente_interno\",\"codigo\",\"nivel_ensino\",\"nome\",\"unidade_responsavel\",\n",
    "          \"situacao_turma\",\"capacidade_aluno\",\"descricao_horario\"]\n",
    "\n",
    "# merge os dois dataframes utilizando como base a coluna id_componenteb\n",
    "merge_turmas_disciplinas = pd.merge(turmas, disciplinas, on='id_componente')[colunas]\n",
    "\n",
    "merge_turmas_disciplinas.dropna(inplace=True)\n",
    "merge_turmas_disciplinas.head()"
   ]
  },
  {
   "cell_type": "code",
   "execution_count": 442,
   "metadata": {},
   "outputs": [
    {
     "data": {
      "text/html": [
       "<div>\n",
       "<style scoped>\n",
       "    .dataframe tbody tr th:only-of-type {\n",
       "        vertical-align: middle;\n",
       "    }\n",
       "\n",
       "    .dataframe tbody tr th {\n",
       "        vertical-align: top;\n",
       "    }\n",
       "\n",
       "    .dataframe thead th {\n",
       "        text-align: right;\n",
       "    }\n",
       "</style>\n",
       "<table border=\"1\" class=\"dataframe\">\n",
       "  <thead>\n",
       "    <tr style=\"text-align: right;\">\n",
       "      <th></th>\n",
       "      <th>total</th>\n",
       "      <th>total_aprovados</th>\n",
       "      <th>aprovacao</th>\n",
       "    </tr>\n",
       "    <tr>\n",
       "      <th>id_turma</th>\n",
       "      <th></th>\n",
       "      <th></th>\n",
       "      <th></th>\n",
       "    </tr>\n",
       "  </thead>\n",
       "  <tbody>\n",
       "    <tr>\n",
       "      <th>1151199</th>\n",
       "      <td>44.0</td>\n",
       "      <td>44.0</td>\n",
       "      <td>1.0</td>\n",
       "    </tr>\n",
       "    <tr>\n",
       "      <th>1160109</th>\n",
       "      <td>44.0</td>\n",
       "      <td>44.0</td>\n",
       "      <td>1.0</td>\n",
       "    </tr>\n",
       "    <tr>\n",
       "      <th>1167001</th>\n",
       "      <td>50.0</td>\n",
       "      <td>50.0</td>\n",
       "      <td>1.0</td>\n",
       "    </tr>\n",
       "    <tr>\n",
       "      <th>1167002</th>\n",
       "      <td>100.0</td>\n",
       "      <td>100.0</td>\n",
       "      <td>1.0</td>\n",
       "    </tr>\n",
       "    <tr>\n",
       "      <th>57226952</th>\n",
       "      <td>34.0</td>\n",
       "      <td>0.0</td>\n",
       "      <td>0.0</td>\n",
       "    </tr>\n",
       "  </tbody>\n",
       "</table>\n",
       "</div>"
      ],
      "text/plain": [
       "          total  total_aprovados  aprovacao\n",
       "id_turma                                   \n",
       "1151199    44.0             44.0        1.0\n",
       "1160109    44.0             44.0        1.0\n",
       "1167001    50.0             50.0        1.0\n",
       "1167002   100.0            100.0        1.0\n",
       "57226952   34.0              0.0        0.0"
      ]
     },
     "execution_count": 442,
     "metadata": {},
     "output_type": "execute_result"
    }
   ],
   "source": [
    "#Criar um DataFrame com as matriculas do semestre\n",
    "matriculas = pd.read_csv(\"matricula-componente-20091.csv\",sep=';', \n",
    "                          usecols=[\"id_turma\",\"descricao\",\"discente\", \"unidade\"])\n",
    "#Tabela pivot com a id das turmas como indice e o numero de alunos para cada valor de descricão(aprovado, reprovado etc.)\n",
    "matricula_pivot = matriculas[matriculas.unidade == 1].pivot_table(index=[\"id_turma\"], columns=\"descricao\", values=[\"discente\"], aggfunc=\"count\").fillna(0)\n",
    "#Adiciona coluna com o numero total de alunos inscritos na turma\n",
    "matricula_pivot['total'] = matricula_pivot.sum(axis=1)\n",
    "#Separa apenas aqueles que foram aprovados\n",
    "index = matricula_pivot.index\n",
    "aprovados = matricula_pivot.loc[index,(slice(None),['APROVADO', 'APROVADO POR NOTA'])].sum(axis=1)\n",
    "matricula_pivot['total_aprovados'] = aprovados\n",
    "#descobre o valor para a taxa de aprovação de cada turma\n",
    "aprovacao = aprovados / matricula_pivot['total']\n",
    "matricula_pivot['aprovacao'] = aprovacao\n",
    "#Manter no dataframe apenas os valores relevantes\n",
    "matricula_pivot.columns = matricula_pivot.columns.droplevel(1)\n",
    "matricula_pivot = matricula_pivot.drop(columns=['discente'])\n",
    "matricula_pivot.head()"
   ]
  },
  {
   "cell_type": "code",
   "execution_count": 396,
   "metadata": {
    "collapsed": true
   },
   "outputs": [
    {
     "data": {
      "text/html": [
       "<div>\n",
       "<style scoped>\n",
       "    .dataframe tbody tr th:only-of-type {\n",
       "        vertical-align: middle;\n",
       "    }\n",
       "\n",
       "    .dataframe tbody tr th {\n",
       "        vertical-align: top;\n",
       "    }\n",
       "\n",
       "    .dataframe thead th {\n",
       "        text-align: right;\n",
       "    }\n",
       "</style>\n",
       "<table border=\"1\" class=\"dataframe\">\n",
       "  <thead>\n",
       "    <tr style=\"text-align: right;\">\n",
       "      <th></th>\n",
       "      <th>total</th>\n",
       "      <th>total_aprovados</th>\n",
       "      <th>aprovacao</th>\n",
       "    </tr>\n",
       "    <tr>\n",
       "      <th>id_turma</th>\n",
       "      <th></th>\n",
       "      <th></th>\n",
       "      <th></th>\n",
       "    </tr>\n",
       "  </thead>\n",
       "  <tbody>\n",
       "    <tr>\n",
       "      <th>57603192</th>\n",
       "      <td>5.0</td>\n",
       "      <td>5.0</td>\n",
       "      <td>1.0</td>\n",
       "    </tr>\n",
       "    <tr>\n",
       "      <th>57603193</th>\n",
       "      <td>1.0</td>\n",
       "      <td>1.0</td>\n",
       "      <td>1.0</td>\n",
       "    </tr>\n",
       "    <tr>\n",
       "      <th>57603194</th>\n",
       "      <td>3.0</td>\n",
       "      <td>3.0</td>\n",
       "      <td>1.0</td>\n",
       "    </tr>\n",
       "    <tr>\n",
       "      <th>57603195</th>\n",
       "      <td>2.0</td>\n",
       "      <td>2.0</td>\n",
       "      <td>1.0</td>\n",
       "    </tr>\n",
       "    <tr>\n",
       "      <th>57603197</th>\n",
       "      <td>10.0</td>\n",
       "      <td>8.0</td>\n",
       "      <td>0.8</td>\n",
       "    </tr>\n",
       "  </tbody>\n",
       "</table>\n",
       "</div>"
      ],
      "text/plain": [
       "          total  total_aprovados  aprovacao\n",
       "id_turma                                   \n",
       "57603192    5.0              5.0        1.0\n",
       "57603193    1.0              1.0        1.0\n",
       "57603194    3.0              3.0        1.0\n",
       "57603195    2.0              2.0        1.0\n",
       "57603197   10.0              8.0        0.8"
      ]
     },
     "execution_count": 396,
     "metadata": {},
     "output_type": "execute_result"
    }
   ],
   "source": [
    "#Função para gerar um dataframe com as taxas de aprovação das turmas de um semestre\n",
    "def aprovacaoTurma(url):\n",
    "    matriculas = pd.read_csv(url,sep=';', \n",
    "                          usecols=[\"id_turma\",\"descricao\",\"discente\", \"unidade\"])\n",
    "    #Tabela pivot com a id das turmas como indice e o numero de alunos para cada valor de descricão(aprovado, reprovado etc.)\n",
    "    matricula_pivot = matriculas[matriculas.unidade == 1].pivot_table(index=[\"id_turma\"], columns=\"descricao\", values=[\"discente\"], aggfunc=\"count\").fillna(0)\n",
    "    #Adiciona coluna com o numero total de alunos inscritos na turma\n",
    "    matricula_pivot['total'] = matricula_pivot.sum(axis=1)\n",
    "    #Separa apenas aqueles que foram aprovados\n",
    "    index = matricula_pivot.index\n",
    "    aprovados = matricula_pivot.loc[index,(slice(None),['APROVADO', 'APROVADO POR NOTA'])].sum(axis=1)\n",
    "    matricula_pivot['total_aprovados'] = aprovados\n",
    "    #descobre o valor para a taxa de aprovação de cada turma\n",
    "    aprovacao = aprovados / matricula_pivot['total']\n",
    "    matricula_pivot['aprovacao'] = aprovacao\n",
    "    #Manter no dataframe apenas os valores relevantes\n",
    "    matricula_pivot.columns = matricula_pivot.columns.droplevel(1)\n",
    "    matricula_pivot = matricula_pivot.drop(columns=['discente'])\n",
    "    return matricula_pivot\n",
    "\n",
    "teste = aprovacaoTurma('http://dados.ufrn.br/dataset/c8650d55-3c5a-4787-a126-d28a4ef902a6/resource/55dfe713-ff7c-4fa8-8d1d-d4294a025bff/download/matricula-componente-20172')\n",
    "teste.head()"
   ]
  },
  {
   "cell_type": "code",
   "execution_count": 418,
   "metadata": {},
   "outputs": [],
   "source": [
    "def incremetSemester(x):\n",
    "    sem = x\n",
    "    if (x % 10) == 1:\n",
    "        sem = sem + 1\n",
    "    else:\n",
    "        sem = sem + 9\n",
    "    return sem"
   ]
  },
  {
   "cell_type": "code",
   "execution_count": 525,
   "metadata": {},
   "outputs": [],
   "source": [
    "#lista de urls dos datasets\n",
    "urls = ['http://bit.do/ufrn-matricula-20091']\n",
    "urls.append('http://bit.do/ufrn-matricula-20092')\n",
    "urls.append('http://bit.do/ufrn-matricula-20101')\n",
    "urls.append('http://bit.do/ufrn-matricula-20102')\n",
    "urls.append('http://bit.do/ufrn-matricula-20111')\n",
    "urls.append('http://bit.do/ufrn-matricula-20112')\n",
    "urls.append('http://bit.do/ufrn-matricula-20121')\n",
    "urls.append('http://bit.do/ufrn-matricula-20122')\n",
    "urls.append('http://bit.do/ufrn-matricula-20131')\n",
    "urls.append('http://bit.do/ufrn-matricula-20132')\n",
    "urls.append('http://bit.do/ufrn-matricula-20141')\n",
    "urls.append('http://bit.do/ufrn-matricula-20142')\n",
    "urls.append('http://bit.do/ufrn-matricula-20151')\n",
    "urls.append('http://bit.do/ufrn-matricula-20152')\n",
    "urls.append('http://bit.do/ufrn-matricula-20161')\n",
    "urls.append('http://bit.do/ufrn-matricula-20162')\n",
    "urls.append('http://bit.do/ufrn-matricula-20171')\n",
    "urls.append('http://bit.do/ufrn-matricula-20172')   "
   ]
  },
  {
   "cell_type": "code",
   "execution_count": 519,
   "metadata": {},
   "outputs": [],
   "source": [
    "#Criar dataframes para cada um doos datasets utilizados\n",
    "import datetime as d\n",
    "base_url = 'http://bit.do/ufrn-matricula-'\n",
    "base_sem = 20091\n",
    "dataList = []\n",
    "now = int(d.datetime.now().year)\n",
    "iterate = (now - base_sem//10)*2\n",
    "for x in range(0, iterate):\n",
    "    url = base_url + str(base_sem)\n",
    "    dataList.append(aprovacaoTurma(url))\n",
    "    base_sem = incremetSemester(base_sem)"
   ]
  },
  {
   "cell_type": "code",
   "execution_count": 549,
   "metadata": {},
   "outputs": [],
   "source": [
    "#Fazer uma cópia dos dados por segurança\n",
    "data = dataList"
   ]
  },
  {
   "cell_type": "code",
   "execution_count": 551,
   "metadata": {
    "scrolled": true
   },
   "outputs": [
    {
     "data": {
      "text/plain": [
       "[Int64Index([ 1151199,  1160109,  1167001,  1167002, 57226952, 57227013,\n",
       "             57483959, 57486803, 57487100, 57495310,\n",
       "             ...\n",
       "             57615005, 57615006, 57615007, 57615008, 57615009, 57615136,\n",
       "             57615137, 57615368, 57616524, 57616525],\n",
       "            dtype='int64', name='id_turma', length=114230),\n",
       " Index(['total', 'total_aprovados', 'aprovacao'], dtype='object')]"
      ]
     },
     "execution_count": 551,
     "metadata": {},
     "output_type": "execute_result"
    }
   ],
   "source": [
    "#Concatenando todos os dataset em um unico dataframe\n",
    "totalData = data[0]\n",
    "for y in range (1,18):\n",
    "    totalData = pd.concat([totalData,data[y]])\n",
    "totalData.axes"
   ]
  },
  {
   "cell_type": "code",
   "execution_count": 553,
   "metadata": {},
   "outputs": [
    {
     "data": {
      "text/plain": [
       "0"
      ]
     },
     "execution_count": 553,
     "metadata": {},
     "output_type": "execute_result"
    }
   ],
   "source": [
    "#Verificar se não há dados duplicados\n",
    "totalData.index.duplicated().sum()"
   ]
  }
 ],
 "metadata": {
  "kernelspec": {
   "display_name": "Python 3",
   "language": "python",
   "name": "python3"
  },
  "language_info": {
   "codemirror_mode": {
    "name": "ipython",
    "version": 3
   },
   "file_extension": ".py",
   "mimetype": "text/x-python",
   "name": "python",
   "nbconvert_exporter": "python",
   "pygments_lexer": "ipython3",
   "version": "3.6.4"
  }
 },
 "nbformat": 4,
 "nbformat_minor": 2
}
